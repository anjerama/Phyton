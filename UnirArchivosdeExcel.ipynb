{
 "cells": [
  {
   "cell_type": "code",
   "execution_count": 1,
   "id": "cf7ac617-d2e6-4fd1-b02b-462ad8759eff",
   "metadata": {},
   "outputs": [],
   "source": [
    "import pandas as pd\n",
    "import numpy as np"
   ]
  },
  {
   "cell_type": "code",
   "execution_count": 2,
   "id": "6a28fe48-6010-42e9-b70e-1bf3ce64929e",
   "metadata": {},
   "outputs": [],
   "source": [
    "# Rutas de los archivos de Excel\n",
    "ruta_unidades_sm = r'C:\\Users\\aramosm\\Documents\\MIX\\EXPORTACIONES\\UNIDADES_SM.xlsx'\n",
    "ruta_ventas_sm = r'C:\\Users\\aramosm\\Documents\\MIX\\EXPORTACIONES\\VENTAS_SM.xlsx'\n",
    "ruta_producto_t = r'C:\\Users\\aramosm\\Documents\\MIX\\EXPORTACIONES\\PRODUCTO_T.xlsx'"
   ]
  },
  {
   "cell_type": "code",
   "execution_count": 3,
   "id": "f428e5bd-f088-4489-a0f2-673bf32f0445",
   "metadata": {},
   "outputs": [],
   "source": [
    "# Cargar los archivos de Excel en DataFrames\n",
    "df_unidades_sm = pd.read_excel(ruta_unidades_sm)\n",
    "df_ventas_sm = pd.read_excel(ruta_ventas_sm)\n",
    "df_producto_t = pd.read_excel(ruta_producto_t)"
   ]
  },
  {
   "cell_type": "code",
   "execution_count": 4,
   "id": "c49bea75-8541-4d35-b1e9-9ead8dd765c1",
   "metadata": {},
   "outputs": [],
   "source": [
    "# Generar el ID en df_unidades_sm concatenando las columnas 4query_UMES_SubEntidad, 4query_UMES_Empleado y 4query_UMES_Nom_Producto\n",
    "df_unidades_sm['ID'] = df_unidades_sm['4query_UMES_SubEntidad'].astype(str) + '_' + df_unidades_sm['4query_UMES_Empleado'].astype(str) + '_' + df_unidades_sm['4query_UMES_Nom_Producto'].astype(str)"
   ]
  },
  {
   "cell_type": "code",
   "execution_count": 5,
   "id": "aa465f5c-199b-4d45-af5c-6de3a85628a2",
   "metadata": {},
   "outputs": [],
   "source": [
    "# Generar el ID en df_ventas_sm concatenando las columnas 4query_VMES_SubEntidad, 4query_VMES_Empleado y 4query_VMES_Nom_Producto\n",
    "df_ventas_sm['ID'] = df_ventas_sm['4query_VMES_SubEntidad'].astype(str) + '_' + df_ventas_sm['4query_VMES_Empleado'].astype(str) + '_' + df_ventas_sm['4query_VMES_Nom_Producto'].astype(str)"
   ]
  },
  {
   "cell_type": "code",
   "execution_count": 6,
   "id": "c0c0924d-ca0a-4a68-87fd-edbeb5517596",
   "metadata": {},
   "outputs": [],
   "source": [
    "# Cambiar el nombre de la columna 'v1nprd' a 'SKU'\n",
    "#df_producto_t = df_producto_t.rename(columns={'v1nprd': 'SKU'})\n",
    "df_ventas_sm = df_ventas_sm.rename(columns={\n",
    "    '4query_VMES_SubEntidad':'SubEntidad', \n",
    "     '4query_VMES_Empleado': 'Empleado',\n",
    "    '4query_VMES_Nom_Producto': 'SKU'\n",
    "})"
   ]
  },
  {
   "cell_type": "code",
   "execution_count": 7,
   "id": "393aa249-52dd-4d92-8ab8-1db396c78bc9",
   "metadata": {},
   "outputs": [],
   "source": [
    "# Convertir la columna 'ID' y 'SKU' a tipo de datos compatible\n",
    "df_unidades_sm['ID'] = df_unidades_sm['ID'].astype(str)\n",
    "df_ventas_sm['ID'] = df_ventas_sm['ID'].astype(str)\n",
    "df_producto_t['SKU'] = df_producto_t['SKU'].astype(str)"
   ]
  },
  {
   "cell_type": "code",
   "execution_count": 8,
   "id": "ab8e8157-5506-415a-b641-3913cdab75f8",
   "metadata": {},
   "outputs": [],
   "source": [
    "# Combinar los DataFrames de UNIDADES_SM y VENTAS_SM utilizando una combinación externa izquierda\n",
    "df_union_uv = pd.merge(df_unidades_sm, df_ventas_sm, on='ID', how='right')"
   ]
  },
  {
   "cell_type": "code",
   "execution_count": 9,
   "id": "455de309-9340-4493-87f6-7ce4e8bc4abf",
   "metadata": {},
   "outputs": [],
   "source": [
    "column_order = list(df_ventas_sm.columns) + list(df_unidades_sm.columns)\n",
    "df_union_uv = df_union_uv[column_order]"
   ]
  },
  {
   "cell_type": "code",
   "execution_count": 10,
   "id": "0dfdca47-fab3-413b-9d18-aa3883ab064f",
   "metadata": {},
   "outputs": [],
   "source": [
    "# Combinar el resultado anterior con el DataFrame de PRODUCTO_T utilizando una combinación interna\n",
    "df_resultado = pd.merge(df_union_uv, df_producto_t, on='SKU', how='left')"
   ]
  },
  {
   "cell_type": "code",
   "execution_count": 11,
   "id": "0e90550b-4f16-4405-a517-7b00a1d755a5",
   "metadata": {},
   "outputs": [],
   "source": [
    "column_order2 = list(df_producto_t.columns) + list(df_union_uv.columns)\n",
    "df_resultado = df_resultado[column_order2]"
   ]
  },
  {
   "cell_type": "code",
   "execution_count": 12,
   "id": "c9b6d6f3-55dd-473b-aac5-5d87628962c9",
   "metadata": {},
   "outputs": [],
   "source": [
    "# Eliminar las columnas especificadas de df_resultado\n",
    "columnas_eliminar = ['4query_UMES_SubEntidad', '4query_UMES_Empleado', '4query_UMES_Nom_Producto',\n",
    "                     '4query_USEM_SubEntidad', '4query_USEM_Empleado', '4query_USEM_Nom_Producto',\n",
    "                     '4query_VSEM_SubEntidad', '4query_VSEM_Empleado', '4query_VSEM_Nom_Producto','ID']\n",
    "df_resultado = df_resultado.drop(columnas_eliminar, axis=1)\n"
   ]
  },
  {
   "cell_type": "code",
   "execution_count": 13,
   "id": "c84f9de6-a2c6-4ef0-a32b-29acc9d85b4c",
   "metadata": {},
   "outputs": [],
   "source": [
    "# Selecciona las columnas numéricas\n",
    "columnas_numericas = df_resultado.select_dtypes(include='number').columns\n",
    "\n",
    "# Guarda las columnas de texto sin modificar\n",
    "columnas_texto = df_resultado.select_dtypes(include='object')\n",
    "\n",
    "# Reemplaza los valores mayores a 100 con NaN en las columnas numéricas\n",
    "df_resultado[columnas_numericas] = df_resultado[columnas_numericas].where(df_resultado[columnas_numericas] >= 100, np.nan)\n",
    "\n",
    "# Combina las columnas numéricas filtradas con las columnas de texto\n",
    "df_completo = pd.concat([df_resultado[columnas_numericas], columnas_texto], axis=1)\n"
   ]
  },
  {
   "cell_type": "code",
   "execution_count": 14,
   "id": "631c6f43-6c39-4287-955f-8afa4b718582",
   "metadata": {},
   "outputs": [],
   "source": [
    "# Exportar el resultado a un nuevo archivo Excel\n",
    "ruta_salida = r'C:\\Users\\aramosm\\Documents\\MIX\\EXPORTACIONES\\MIX_VU.xlsx'\n",
    "ruta_salida100 = r'C:\\Users\\aramosm\\Documents\\MIX\\EXPORTACIONES\\MIX_VU100.xlsx'\n",
    "df_resultado.to_excel(ruta_salida, index=False)\n",
    "df_completo.to_excel(ruta_salida100, index=False)"
   ]
  },
  {
   "cell_type": "code",
   "execution_count": 15,
   "id": "a497ee39-6da2-4e0d-abec-bbde60b3fc1b",
   "metadata": {},
   "outputs": [
    {
     "name": "stdout",
     "output_type": "stream",
     "text": [
      "El archivo MIX_VU.xlsx ha sido creado con éxito.\n"
     ]
    }
   ],
   "source": [
    "print(\"El archivo MIX_VU.xlsx ha sido creado con éxito.\")"
   ]
  }
 ],
 "metadata": {
  "kernelspec": {
   "display_name": "Python 3 (ipykernel)",
   "language": "python",
   "name": "python3"
  },
  "language_info": {
   "codemirror_mode": {
    "name": "ipython",
    "version": 3
   },
   "file_extension": ".py",
   "mimetype": "text/x-python",
   "name": "python",
   "nbconvert_exporter": "python",
   "pygments_lexer": "ipython3",
   "version": "3.9.13"
  }
 },
 "nbformat": 4,
 "nbformat_minor": 5
}
