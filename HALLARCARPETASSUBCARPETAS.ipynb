{
 "cells": [
  {
   "cell_type": "code",
   "execution_count": 1,
   "id": "1fd13954-7d4d-4055-bfdf-72664d6d3563",
   "metadata": {},
   "outputs": [
    {
     "name": "stdout",
     "output_type": "stream",
     "text": [
      "Lista de archivos generada y guardada exitosamente, incluyendo subcarpetas.\n"
     ]
    }
   ],
   "source": [
    "import os\n",
    "import pandas as pd"
   ]
  },
  {
   "cell_type": "code",
   "execution_count": null,
   "id": "cead153a-4a57-49fb-8793-5d4f8267ee1a",
   "metadata": {},
   "outputs": [],
   "source": [
    "# Ruta de la carpeta principal\n",
    "carpeta = r'\\\\nas01\\Dirección Comercial\\Mercadotecnia'"
   ]
  },
  {
   "cell_type": "code",
   "execution_count": null,
   "id": "0beb927b-6b5e-4881-8cb4-1e65029a91d4",
   "metadata": {},
   "outputs": [],
   "source": [
    "# Inicializar una lista para almacenar todos los nombres de archivo\n",
    "archivos = []"
   ]
  },
  {
   "cell_type": "code",
   "execution_count": null,
   "id": "c223dfc5-6fc7-4134-980a-68b565cecca2",
   "metadata": {},
   "outputs": [],
   "source": [
    "# Utilizar os.walk() para recorrer la carpeta principal y sus subcarpetas\n",
    "for ruta_actual, subcarpetas, archivos_en_carpeta in os.walk(carpeta):\n",
    "    for archivo in archivos_en_carpeta:\n",
    "        ruta_completa = os.path.join(ruta_actual, archivo)\n",
    "        archivos.append(ruta_completa)"
   ]
  },
  {
   "cell_type": "code",
   "execution_count": null,
   "id": "3f4a0a14-d25c-41c6-89f2-e4246e915eac",
   "metadata": {},
   "outputs": [],
   "source": [
    "# Crear un DataFrame de pandas\n",
    "df = pd.DataFrame({'Nombre de Archivo': archivos})"
   ]
  },
  {
   "cell_type": "code",
   "execution_count": null,
   "id": "40ebac89-dbad-4921-b5ca-679b2b91b820",
   "metadata": {},
   "outputs": [],
   "source": [
    "# Opción 1: Guardar en un archivo TXT\n",
    "df.to_csv('lista_de_archivosV.txt', index=False, header=True, sep='\\t')"
   ]
  },
  {
   "cell_type": "code",
   "execution_count": null,
   "id": "70494e58-9cba-47cb-a7ce-aad4b8d20174",
   "metadata": {},
   "outputs": [],
   "source": [
    "# Opción 2: Guardar en un archivo Excel\n",
    "df.to_excel('lista_de_archivosV.xlsx', index=False, header=True)"
   ]
  },
  {
   "cell_type": "code",
   "execution_count": null,
   "id": "f009d2d4-b65d-4bf5-bcab-5dcd8c04e093",
   "metadata": {},
   "outputs": [],
   "source": [
    "print(\"Lista de archivos generada y guardada exitosamente, incluyendo subcarpetas.\")"
   ]
  }
 ],
 "metadata": {
  "kernelspec": {
   "display_name": "Python 3 (ipykernel)",
   "language": "python",
   "name": "python3"
  },
  "language_info": {
   "codemirror_mode": {
    "name": "ipython",
    "version": 3
   },
   "file_extension": ".py",
   "mimetype": "text/x-python",
   "name": "python",
   "nbconvert_exporter": "python",
   "pygments_lexer": "ipython3",
   "version": "3.9.13"
  }
 },
 "nbformat": 4,
 "nbformat_minor": 5
}
