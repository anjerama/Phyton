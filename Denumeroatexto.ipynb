{
 "cells": [
  {
   "cell_type": "code",
   "execution_count": 1,
   "id": "5a7017a4-f76d-4705-af42-96b39e65f598",
   "metadata": {},
   "outputs": [
    {
     "name": "stdout",
     "output_type": "stream",
     "text": [
      "El número 15648120 en palabras es: quince millones seiscientos cuarenta y ocho mil ciento veinte\n"
     ]
    }
   ],
   "source": [
    "from num2words import num2words\n",
    "\n",
    "def numero_a_texto(numero):\n",
    "    return num2words(numero, lang='es')\n",
    "\n",
    "# Ejemplo de uso\n",
    "numero = 15648120\n",
    "texto = numero_a_texto(numero)\n",
    "print(f\"El número {numero} en palabras es: {texto}\")"
   ]
  }
 ],
 "metadata": {
  "kernelspec": {
   "display_name": "Python 3 (ipykernel)",
   "language": "python",
   "name": "python3"
  },
  "language_info": {
   "codemirror_mode": {
    "name": "ipython",
    "version": 3
   },
   "file_extension": ".py",
   "mimetype": "text/x-python",
   "name": "python",
   "nbconvert_exporter": "python",
   "pygments_lexer": "ipython3",
   "version": "3.9.13"
  }
 },
 "nbformat": 4,
 "nbformat_minor": 5
}
